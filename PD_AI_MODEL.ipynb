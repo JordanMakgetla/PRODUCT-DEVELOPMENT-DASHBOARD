{
  "nbformat": 4,
  "nbformat_minor": 0,
  "metadata": {
    "colab": {
      "provenance": [],
      "gpuType": "T4"
    },
    "kernelspec": {
      "name": "python3",
      "display_name": "Python 3"
    },
    "language_info": {
      "name": "python"
    },
    "accelerator": "GPU"
  },
  "cells": [
    {
      "cell_type": "code",
      "execution_count": 1,
      "metadata": {
        "id": "RZ_iw6sxcmWg"
      },
      "outputs": [],
      "source": [
        "import pandas as pd\n",
        "import numpy as np\n",
        "from sklearn.linear_model import LinearRegression\n",
        "from sklearn.ensemble import IsolationForest\n",
        "from sklearn.model_selection import train_test_split\n",
        "import matplotlib.pyplot as plt\n",
        "import seaborn as sns"
      ]
    },
    {
      "cell_type": "code",
      "source": [
        "# Load your dataset (replace the path if necessary)\n",
        "df = pd.read_csv('large_product_sales_data.csv')"
      ],
      "metadata": {
        "id": "Gjj0KqjOcnRn"
      },
      "execution_count": 3,
      "outputs": []
    },
    {
      "cell_type": "code",
      "source": [
        "# Convert Date to datetime type\n",
        "df['Date'] = pd.to_datetime(df['Date'])"
      ],
      "metadata": {
        "id": "bqxqQdyEcnT7"
      },
      "execution_count": 4,
      "outputs": []
    },
    {
      "cell_type": "code",
      "source": [
        "\n",
        "# 1. Extract Job Requests & Interactions (Analyzing interactions)\n",
        "def interaction_summary(df):\n",
        "    interaction_data = df.groupby('InteractionType').agg(\n",
        "        total_interactions=('InteractionType', 'count'),\n",
        "        conversion_rate=('Converted', 'mean')\n",
        "    ).reset_index()\n",
        "    return interaction_data\n",
        "\n",
        "interaction_data = interaction_summary(df)\n",
        "print(\"Interaction Summary:\")\n",
        "print(interaction_data)"
      ],
      "metadata": {
        "colab": {
          "base_uri": "https://localhost:8080/"
        },
        "id": "5rU1e5ubcnWJ",
        "outputId": "38c1a392-7b48-4de7-9123-5f886eba1c65"
      },
      "execution_count": 5,
      "outputs": [
        {
          "output_type": "stream",
          "name": "stdout",
          "text": [
            "Interaction Summary:\n",
            "  InteractionType  total_interactions  conversion_rate\n",
            "0     Add to Cart                 255              0.0\n",
            "1           Click                 250              0.0\n",
            "2        Purchase                 254              1.0\n",
            "3            View                 241              0.0\n"
          ]
        }
      ]
    },
    {
      "cell_type": "code",
      "source": [
        "# 2. Generate Statistical Summaries of the Data\n",
        "def data_summary(df):\n",
        "    return df.describe()\n",
        "\n",
        "summary = data_summary(df)\n",
        "print(\"\\nStatistical Summary:\")\n",
        "print(summary)"
      ],
      "metadata": {
        "colab": {
          "base_uri": "https://localhost:8080/"
        },
        "id": "G92WXz9scnYa",
        "outputId": "26d92b8e-5e1b-4092-cfcd-81835c859a24"
      },
      "execution_count": 6,
      "outputs": [
        {
          "output_type": "stream",
          "name": "stdout",
          "text": [
            "\n",
            "Statistical Summary:\n",
            "                                Date    Converted  QuantitySold  Anomaly\n",
            "count                           1000  1000.000000    1000.00000   1000.0\n",
            "mean   2025-01-04 16:39:21.599999744     0.254000       0.80200      0.0\n",
            "min              2024-10-06 00:00:00     0.000000       0.00000      0.0\n",
            "25%              2024-11-19 18:00:00     0.000000       0.00000      0.0\n",
            "50%              2025-01-08 00:00:00     0.000000       0.00000      0.0\n",
            "75%              2025-02-18 00:00:00     1.000000       1.00000      0.0\n",
            "max              2025-04-06 00:00:00     1.000000       5.00000      0.0\n",
            "std                              NaN     0.435515       1.54958      0.0\n"
          ]
        }
      ]
    },
    {
      "cell_type": "code",
      "source": [
        "# 3. Predictive Analytics (Forecasting Sales)\n",
        "def predict_sales(df):\n",
        "    # Prepare the data: Predict QuantitySold based on ProductType and MarketingStrategy\n",
        "    df['ProductType'] = pd.Categorical(df['ProductType']).codes\n",
        "    df['MarketingStrategy'] = pd.Categorical(df['MarketingStrategy']).codes\n",
        "    X = df[['ProductType', 'MarketingStrategy']]  # Features\n",
        "    y = df['QuantitySold']  # Target\n",
        "\n",
        "    # Split data into train and test sets\n",
        "    X_train, X_test, y_train, y_test = train_test_split(X, y, test_size=0.2, random_state=42)\n",
        "\n",
        "    # Train a simple linear regression model\n",
        "    model = LinearRegression()\n",
        "    model.fit(X_train, y_train)\n",
        "\n",
        "        # Forecast future sales (predict on test set)\n",
        "    y_pred = model.predict(X_test)\n",
        "\n",
        "    return model, X_test, y_test, y_pred"
      ],
      "metadata": {
        "id": "8m5gKvsTcnah"
      },
      "execution_count": 10,
      "outputs": []
    },
    {
      "cell_type": "code",
      "source": [
        "# Train the model and forecast sales\n",
        "model, X_test, y_test, y_pred = predict_sales(df)\n",
        "print(\"\\nSales Forecasting Results:\")\n",
        "for i in range(len(y_pred)):\n",
        "    print(f\"Predicted: {y_pred[i]}, Actual: {y_test.iloc[i]}\")"
      ],
      "metadata": {
        "colab": {
          "base_uri": "https://localhost:8080/"
        },
        "id": "fWMrO-wgcnc7",
        "outputId": "3705facf-a588-4c7d-e829-f538b6d97475"
      },
      "execution_count": 11,
      "outputs": [
        {
          "output_type": "stream",
          "name": "stdout",
          "text": [
            "\n",
            "Sales Forecasting Results:\n",
            "Predicted: 0.8740731535977577, Actual: 1\n",
            "Predicted: 0.8750411613786505, Actual: 1\n",
            "Predicted: 0.804870353483808, Actual: 2\n",
            "Predicted: 0.8068063690455937, Actual: 0\n",
            "Predicted: 0.7702689534268331, Actual: 0\n",
            "Predicted: 0.8039023457029152, Actual: 0\n",
            "Predicted: 0.872137138035972, Actual: 2\n",
            "Predicted: 0.7741409845504045, Actual: 4\n",
            "Predicted: 0.7405075922743224, Actual: 0\n",
            "Predicted: 0.8039023457029152, Actual: 3\n",
            "Predicted: 0.8068063690455937, Actual: 0\n",
            "Predicted: 0.771236961207726, Actual: 0\n",
            "Predicted: 0.8058383612647009, Actual: 0\n",
            "Predicted: 0.8750411613786505, Actual: 0\n",
            "Predicted: 0.7405075922743224, Actual: 0\n",
            "Predicted: 0.771236961207726, Actual: 0\n",
            "Predicted: 0.7366355611507511, Actual: 0\n",
            "Predicted: 0.8068063690455937, Actual: 1\n",
            "Predicted: 0.8404397613216756, Actual: 3\n",
            "Predicted: 0.8414077691025685, Actual: 0\n",
            "Predicted: 0.872137138035972, Actual: 0\n",
            "Predicted: 0.7702689534268331, Actual: 0\n",
            "Predicted: 0.7405075922743224, Actual: 0\n",
            "Predicted: 0.7731729767695116, Actual: 0\n",
            "Predicted: 0.8414077691025685, Actual: 1\n",
            "Predicted: 0.872137138035972, Actual: 0\n",
            "Predicted: 0.8414077691025685, Actual: 0\n",
            "Predicted: 0.8414077691025685, Actual: 0\n",
            "Predicted: 0.8077743768264865, Actual: 0\n",
            "Predicted: 0.771236961207726, Actual: 3\n",
            "Predicted: 0.8058383612647009, Actual: 1\n",
            "Predicted: 0.8039023457029152, Actual: 5\n",
            "Predicted: 0.8385037457598901, Actual: 3\n",
            "Predicted: 0.7385715767125367, Actual: 0\n",
            "Predicted: 0.872137138035972, Actual: 0\n",
            "Predicted: 0.8068063690455937, Actual: 0\n",
            "Predicted: 0.8711691302550792, Actual: 0\n",
            "Predicted: 0.7702689534268331, Actual: 5\n",
            "Predicted: 0.7702689534268331, Actual: 0\n",
            "Predicted: 0.7376035689316439, Actual: 3\n",
            "Predicted: 0.8394717535407829, Actual: 0\n",
            "Predicted: 0.8039023457029152, Actual: 0\n",
            "Predicted: 0.8068063690455937, Actual: 0\n",
            "Predicted: 0.8394717535407829, Actual: 2\n",
            "Predicted: 0.872137138035972, Actual: 0\n",
            "Predicted: 0.7741409845504045, Actual: 0\n",
            "Predicted: 0.7405075922743224, Actual: 3\n",
            "Predicted: 0.804870353483808, Actual: 0\n",
            "Predicted: 0.7405075922743224, Actual: 0\n",
            "Predicted: 0.8404397613216756, Actual: 3\n",
            "Predicted: 0.8414077691025685, Actual: 0\n",
            "Predicted: 0.7405075922743224, Actual: 0\n",
            "Predicted: 0.7741409845504045, Actual: 0\n",
            "Predicted: 0.8077743768264865, Actual: 0\n",
            "Predicted: 0.8077743768264865, Actual: 0\n",
            "Predicted: 0.8750411613786505, Actual: 0\n",
            "Predicted: 0.8039023457029152, Actual: 4\n",
            "Predicted: 0.8077743768264865, Actual: 0\n",
            "Predicted: 0.7395395844934296, Actual: 4\n",
            "Predicted: 0.804870353483808, Actual: 0\n",
            "Predicted: 0.8058383612647009, Actual: 0\n",
            "Predicted: 0.8711691302550792, Actual: 0\n",
            "Predicted: 0.8385037457598901, Actual: 1\n",
            "Predicted: 0.8731051458168648, Actual: 0\n",
            "Predicted: 0.7405075922743224, Actual: 0\n",
            "Predicted: 0.7741409845504045, Actual: 2\n",
            "Predicted: 0.7702689534268331, Actual: 0\n",
            "Predicted: 0.8711691302550792, Actual: 0\n",
            "Predicted: 0.7385715767125367, Actual: 0\n",
            "Predicted: 0.804870353483808, Actual: 0\n",
            "Predicted: 0.8750411613786505, Actual: 0\n",
            "Predicted: 0.7376035689316439, Actual: 0\n",
            "Predicted: 0.7722049689886188, Actual: 0\n",
            "Predicted: 0.8058383612647009, Actual: 0\n",
            "Predicted: 0.872137138035972, Actual: 0\n",
            "Predicted: 0.804870353483808, Actual: 0\n",
            "Predicted: 0.8077743768264865, Actual: 3\n",
            "Predicted: 0.8077743768264865, Actual: 0\n",
            "Predicted: 0.8058383612647009, Actual: 1\n",
            "Predicted: 0.8039023457029152, Actual: 0\n",
            "Predicted: 0.8414077691025685, Actual: 5\n",
            "Predicted: 0.7741409845504045, Actual: 0\n",
            "Predicted: 0.8385037457598901, Actual: 0\n",
            "Predicted: 0.8731051458168648, Actual: 2\n",
            "Predicted: 0.8750411613786505, Actual: 0\n",
            "Predicted: 0.8394717535407829, Actual: 4\n",
            "Predicted: 0.804870353483808, Actual: 0\n",
            "Predicted: 0.8077743768264865, Actual: 0\n",
            "Predicted: 0.8058383612647009, Actual: 0\n",
            "Predicted: 0.7722049689886188, Actual: 3\n",
            "Predicted: 0.8375357379789972, Actual: 0\n",
            "Predicted: 0.804870353483808, Actual: 4\n",
            "Predicted: 0.8375357379789972, Actual: 0\n",
            "Predicted: 0.8039023457029152, Actual: 0\n",
            "Predicted: 0.7702689534268331, Actual: 0\n",
            "Predicted: 0.7376035689316439, Actual: 0\n",
            "Predicted: 0.8750411613786505, Actual: 5\n",
            "Predicted: 0.7366355611507511, Actual: 0\n",
            "Predicted: 0.8414077691025685, Actual: 0\n",
            "Predicted: 0.8077743768264865, Actual: 0\n",
            "Predicted: 0.7366355611507511, Actual: 0\n",
            "Predicted: 0.8750411613786505, Actual: 0\n",
            "Predicted: 0.8375357379789972, Actual: 0\n",
            "Predicted: 0.872137138035972, Actual: 0\n",
            "Predicted: 0.8750411613786505, Actual: 0\n",
            "Predicted: 0.8375357379789972, Actual: 1\n",
            "Predicted: 0.7741409845504045, Actual: 1\n",
            "Predicted: 0.8039023457029152, Actual: 0\n",
            "Predicted: 0.8375357379789972, Actual: 0\n",
            "Predicted: 0.8711691302550792, Actual: 0\n",
            "Predicted: 0.7741409845504045, Actual: 0\n",
            "Predicted: 0.7395395844934296, Actual: 1\n",
            "Predicted: 0.872137138035972, Actual: 0\n",
            "Predicted: 0.8731051458168648, Actual: 0\n",
            "Predicted: 0.8385037457598901, Actual: 5\n",
            "Predicted: 0.7395395844934296, Actual: 0\n",
            "Predicted: 0.872137138035972, Actual: 5\n",
            "Predicted: 0.8750411613786505, Actual: 5\n",
            "Predicted: 0.8404397613216756, Actual: 0\n",
            "Predicted: 0.8385037457598901, Actual: 0\n",
            "Predicted: 0.8750411613786505, Actual: 0\n",
            "Predicted: 0.8058383612647009, Actual: 3\n",
            "Predicted: 0.7741409845504045, Actual: 5\n",
            "Predicted: 0.8375357379789972, Actual: 1\n",
            "Predicted: 0.7385715767125367, Actual: 0\n",
            "Predicted: 0.7405075922743224, Actual: 0\n",
            "Predicted: 0.7376035689316439, Actual: 0\n",
            "Predicted: 0.8394717535407829, Actual: 0\n",
            "Predicted: 0.7731729767695116, Actual: 0\n",
            "Predicted: 0.7722049689886188, Actual: 0\n",
            "Predicted: 0.8375357379789972, Actual: 0\n",
            "Predicted: 0.7722049689886188, Actual: 0\n",
            "Predicted: 0.8414077691025685, Actual: 0\n",
            "Predicted: 0.8385037457598901, Actual: 0\n",
            "Predicted: 0.8740731535977577, Actual: 1\n",
            "Predicted: 0.8385037457598901, Actual: 0\n",
            "Predicted: 0.7366355611507511, Actual: 0\n",
            "Predicted: 0.7385715767125367, Actual: 0\n",
            "Predicted: 0.8750411613786505, Actual: 0\n",
            "Predicted: 0.7722049689886188, Actual: 0\n",
            "Predicted: 0.7702689534268331, Actual: 0\n",
            "Predicted: 0.8740731535977577, Actual: 0\n",
            "Predicted: 0.7366355611507511, Actual: 0\n",
            "Predicted: 0.8058383612647009, Actual: 5\n",
            "Predicted: 0.8068063690455937, Actual: 0\n",
            "Predicted: 0.771236961207726, Actual: 2\n",
            "Predicted: 0.7395395844934296, Actual: 3\n",
            "Predicted: 0.804870353483808, Actual: 3\n",
            "Predicted: 0.7702689534268331, Actual: 0\n",
            "Predicted: 0.7722049689886188, Actual: 2\n",
            "Predicted: 0.8414077691025685, Actual: 0\n",
            "Predicted: 0.771236961207726, Actual: 0\n",
            "Predicted: 0.8385037457598901, Actual: 3\n",
            "Predicted: 0.872137138035972, Actual: 0\n",
            "Predicted: 0.8750411613786505, Actual: 0\n",
            "Predicted: 0.804870353483808, Actual: 0\n",
            "Predicted: 0.7366355611507511, Actual: 0\n",
            "Predicted: 0.7702689534268331, Actual: 0\n",
            "Predicted: 0.8385037457598901, Actual: 0\n",
            "Predicted: 0.7395395844934296, Actual: 5\n",
            "Predicted: 0.8750411613786505, Actual: 0\n",
            "Predicted: 0.7405075922743224, Actual: 0\n",
            "Predicted: 0.8077743768264865, Actual: 0\n",
            "Predicted: 0.8058383612647009, Actual: 0\n",
            "Predicted: 0.8077743768264865, Actual: 0\n",
            "Predicted: 0.7376035689316439, Actual: 0\n",
            "Predicted: 0.8740731535977577, Actual: 1\n",
            "Predicted: 0.771236961207726, Actual: 0\n",
            "Predicted: 0.771236961207726, Actual: 0\n",
            "Predicted: 0.8058383612647009, Actual: 4\n",
            "Predicted: 0.771236961207726, Actual: 0\n",
            "Predicted: 0.7741409845504045, Actual: 0\n",
            "Predicted: 0.8731051458168648, Actual: 2\n",
            "Predicted: 0.8039023457029152, Actual: 0\n",
            "Predicted: 0.8731051458168648, Actual: 0\n",
            "Predicted: 0.8731051458168648, Actual: 0\n",
            "Predicted: 0.7702689534268331, Actual: 0\n",
            "Predicted: 0.7741409845504045, Actual: 0\n",
            "Predicted: 0.771236961207726, Actual: 0\n",
            "Predicted: 0.8039023457029152, Actual: 0\n",
            "Predicted: 0.8740731535977577, Actual: 0\n",
            "Predicted: 0.7405075922743224, Actual: 0\n",
            "Predicted: 0.8068063690455937, Actual: 0\n",
            "Predicted: 0.8740731535977577, Actual: 0\n",
            "Predicted: 0.8740731535977577, Actual: 0\n",
            "Predicted: 0.8731051458168648, Actual: 0\n",
            "Predicted: 0.8731051458168648, Actual: 0\n",
            "Predicted: 0.7395395844934296, Actual: 0\n",
            "Predicted: 0.8740731535977577, Actual: 0\n",
            "Predicted: 0.7395395844934296, Actual: 0\n",
            "Predicted: 0.8731051458168648, Actual: 5\n",
            "Predicted: 0.7366355611507511, Actual: 0\n",
            "Predicted: 0.8711691302550792, Actual: 0\n",
            "Predicted: 0.872137138035972, Actual: 2\n",
            "Predicted: 0.8404397613216756, Actual: 0\n",
            "Predicted: 0.7731729767695116, Actual: 0\n",
            "Predicted: 0.8385037457598901, Actual: 4\n",
            "Predicted: 0.8404397613216756, Actual: 0\n",
            "Predicted: 0.8711691302550792, Actual: 4\n",
            "Predicted: 0.7741409845504045, Actual: 0\n"
          ]
        }
      ]
    },
    {
      "cell_type": "code",
      "source": [
        "# Plot predicted vs actual sales\n",
        "plt.figure(figsize=(10, 6))\n",
        "plt.scatter(range(len(y_test)), y_test, color='blue', label='Actual Sales')\n",
        "plt.scatter(range(len(y_pred)), y_pred, color='red', label='Predicted Sales')\n",
        "plt.xlabel('Test Data Index')\n",
        "plt.ylabel('Quantity Sold')\n",
        "plt.legend()\n",
        "plt.show()"
      ],
      "metadata": {
        "colab": {
          "base_uri": "https://localhost:8080/",
          "height": 413
        },
        "id": "CgTneaJTcne-",
        "outputId": "dfdd1e2f-cb04-4801-f4a6-c1bd2c1bd906"
      },
      "execution_count": 12,
      "outputs": [
        {
          "output_type": "display_data",
          "data": {
            "text/plain": [
              "<Figure size 1000x600 with 1 Axes>"
            ],
            "image/png": "[encoded data removed]"
          },
          "metadata": {}
        }
      ]
    },
    {
      "cell_type": "code",
      "source": [
        "# 4. Anomaly Detection\n",
        "def detect_anomalies(df):\n",
        "    # Use Isolation Forest for anomaly detection\n",
        "    model = IsolationForest(contamination=0.1)  # Contamination is the proportion of anomalies\n",
        "    df['Anomaly'] = model.fit_predict(df[['QuantitySold']])\n",
        "\n",
        "    # Convert the anomaly output (-1 for anomaly, 1 for normal)\n",
        "    df['Anomaly'] = df['Anomaly'].map({-1: True, 1: False})\n",
        "\n",
        "    return df\n"
      ],
      "metadata": {
        "id": "Xw18tmD1cnhg"
      },
      "execution_count": 13,
      "outputs": []
    },
    {
      "cell_type": "code",
      "source": [
        "# Detect anomalies in the dataset\n",
        "df_with_anomalies = detect_anomalies(df)\n",
        "print(\"\\nDataset with Anomalies Detected:\")\n",
        "print(df_with_anomalies)"
      ],
      "metadata": {
        "colab": {
          "base_uri": "https://localhost:8080/"
        },
        "id": "gNCZiDlzcnjt",
        "outputId": "ae018823-86d9-45e9-d6bc-ae64a9cea019"
      },
      "execution_count": 14,
      "outputs": [
        {
          "output_type": "stream",
          "name": "stdout",
          "text": [
            "\n",
            "Dataset with Anomalies Detected:\n",
            "          Date  ProductType  MarketingStrategy InteractionType  Converted  \\\n",
            "0   2025-03-25            1                  1            View          0   \n",
            "1   2025-02-16            4                  1        Purchase          1   \n",
            "2   2025-03-13            4                  1            View          0   \n",
            "3   2024-12-12            3                  2           Click          0   \n",
            "4   2025-02-27            1                  2            View          0   \n",
            "..         ...          ...                ...             ...        ...   \n",
            "995 2024-11-24            3                  3     Add to Cart          0   \n",
            "996 2025-04-02            0                  0            View          0   \n",
            "997 2024-10-07            1                  3           Click          0   \n",
            "998 2024-10-08            2                  3           Click          0   \n",
            "999 2024-10-28            3                  1            View          0   \n",
            "\n",
            "     QuantitySold  Anomaly  \n",
            "0               0    False  \n",
            "1               5     True  \n",
            "2               0    False  \n",
            "3               0    False  \n",
            "4               0    False  \n",
            "..            ...      ...  \n",
            "995             0    False  \n",
            "996             0    False  \n",
            "997             0    False  \n",
            "998             0    False  \n",
            "999             0    False  \n",
            "\n",
            "[1000 rows x 7 columns]\n"
          ]
        }
      ]
    },
    {
      "cell_type": "code",
      "source": [
        "# Show the rows with anomalies\n",
        "anomalies = df_with_anomalies[df_with_anomalies['Anomaly'] == True]\n",
        "print(\"\\nAnomalies:\")\n",
        "print(anomalies)"
      ],
      "metadata": {
        "colab": {
          "base_uri": "https://localhost:8080/"
        },
        "id": "ez9rS5dRcnmN",
        "outputId": "097b9d68-6d96-4616-ce75-b7577d3881c8"
      },
      "execution_count": 15,
      "outputs": [
        {
          "output_type": "stream",
          "name": "stdout",
          "text": [
            "\n",
            "Anomalies:\n",
            "          Date  ProductType  MarketingStrategy InteractionType  Converted  \\\n",
            "1   2025-02-16            4                  1        Purchase          1   \n",
            "5   2025-03-24            4                  4        Purchase          1   \n",
            "9   2024-10-15            3                  4        Purchase          1   \n",
            "40  2025-02-28            4                  2        Purchase          1   \n",
            "65  2025-03-31            4                  2        Purchase          1   \n",
            "..         ...          ...                ...             ...        ...   \n",
            "918 2025-03-30            0                  1        Purchase          1   \n",
            "935 2025-01-19            1                  1        Purchase          1   \n",
            "948 2025-02-05            4                  2        Purchase          1   \n",
            "951 2025-03-13            0                  1        Purchase          1   \n",
            "978 2024-11-02            4                  0        Purchase          1   \n",
            "\n",
            "     QuantitySold  Anomaly  \n",
            "1               5     True  \n",
            "5               5     True  \n",
            "9               5     True  \n",
            "40              5     True  \n",
            "65              5     True  \n",
            "..            ...      ...  \n",
            "918             5     True  \n",
            "935             5     True  \n",
            "948             5     True  \n",
            "951             5     True  \n",
            "978             5     True  \n",
            "\n",
            "[61 rows x 7 columns]\n"
          ]
        }
      ]
    },
    {
      "cell_type": "code",
      "source": [],
      "metadata": {
        "id": "_8OeI2Axcnoo"
      },
      "execution_count": null,
      "outputs": []
    },
    {
      "cell_type": "code",
      "source": [],
      "metadata": {
        "id": "EbOtfe2Ecnqz"
      },
      "execution_count": null,
      "outputs": []
    },
    {
      "cell_type": "code",
      "source": [],
      "metadata": {
        "id": "dtMsev_mcns-"
      },
      "execution_count": null,
      "outputs": []
    },
    {
      "cell_type": "code",
      "source": [],
      "metadata": {
        "id": "4ti4WanJcnu5"
      },
      "execution_count": null,
      "outputs": []
    }
  ]
}